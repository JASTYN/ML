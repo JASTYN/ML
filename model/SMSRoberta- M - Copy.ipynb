{
 "cells": [
  {
   "cell_type": "markdown",
   "metadata": {},
   "source": [
    "# Text Classification using RoBERTa"
   ]
  },
  {
   "cell_type": "markdown",
   "metadata": {},
   "source": [
    "### Using RoBERTa base and getting AUROC values of ~0.93 with a 100K downsampled/upsampled data set."
   ]
  },
  {
   "cell_type": "code",
   "execution_count": 1,
   "metadata": {},
   "outputs": [],
   "source": [
    "#Installs and imports\n",
    "#!conda create -y -n st python pandas tqdm\n",
    "#!conda activate st && conda init bash\n",
    "\n",
    "## for mac\n",
    "#!conda install -y -n st pytorch torchvision torchaudio -c pytorch-nightly\n",
    "\n",
    "## for linux\n",
    "#!conda install -y -n tf pytorch torchvision torchaudio cudatoolkit=11.6 -c pytorch -c conda-forge\n",
    "#!python3 -m pip install --upgrade transformers simpletransformers wandb"
   ]
  },
  {
   "cell_type": "code",
   "execution_count": 2,
   "metadata": {},
   "outputs": [],
   "source": [
    "#!pip install simpletransformers"
   ]
  },
  {
   "cell_type": "code",
   "execution_count": 3,
   "metadata": {},
   "outputs": [
    {
     "name": "stderr",
     "output_type": "stream",
     "text": [
      "C:\\Users\\ICS\\AppData\\Local\\Programs\\Python\\Python310\\lib\\site-packages\\torchvision\\models\\detection\\anchor_utils.py:63: UserWarning: Failed to initialize NumPy: module compiled against API version 0x10 but this version of numpy is 0xf (Triggered internally at  ..\\torch\\csrc\\utils\\tensor_numpy.cpp:68.)\n",
      "  device: torch.device = torch.device(\"cpu\"),\n"
     ]
    }
   ],
   "source": [
    "#from transformers import LayoutLMv2Processor\n",
    "import simpletransformers\n",
    "from simpletransformers.classification import ClassificationModel, ClassificationArgs\n",
    "\n",
    "# from simpletransformers.classification import ClassificationModel\n",
    "#from transformers import RobertaForSequenceClassification\n",
    "import pandas as pd\n",
    "import logging\n",
    "import sklearn\n",
    "import numpy as np"
   ]
  },
  {
   "cell_type": "code",
   "execution_count": null,
   "metadata": {},
   "outputs": [],
   "source": []
  },
  {
   "cell_type": "code",
   "execution_count": 4,
   "metadata": {},
   "outputs": [],
   "source": [
    "#Log Results\n",
    "logging.basicConfig(level=logging.INFO)\n",
    "transformers_logger = logging.getLogger(\"transformers\")\n",
    "transformers_logger.setLevel(logging.WARNING)"
   ]
  },
  {
   "cell_type": "markdown",
   "metadata": {},
   "source": [
    "### 2. Import and Transform Data"
   ]
  },
  {
   "cell_type": "code",
   "execution_count": 5,
   "metadata": {},
   "outputs": [
    {
     "name": "stdout",
     "output_type": "stream",
     "text": [
      "ham dataset: \n",
      "   labels                                               text\n",
      "1    Ham  11616056 has a WIC appt on {Month} {Day} {Time...\n",
      "2    Ham  1st of the Holiday Stress Busting Series, Art ...\n",
      "3    Ham  21417272 has a WIC appt on {Month} {Day} {Time...\n",
      "4    Ham  2 flu shots for  has an upcoming appt on {Mont...\n",
      "5    Ham  31018019 has a WIC appt on {Month} {Day} at {T... \n",
      "\n",
      " spam dataset: \n",
      "   labels                                               text\n",
      "1   Spam  {FirstName} has a WIC appt with People's Healt...\n",
      "2   Spam  {FirstName} has missed a WIC appt on  {Weekday...\n",
      "3   Spam  {FirstName} missed a WIC appt. Please call {Ph...\n",
      "4   Spam   {FirstName} has missed a WIC appt on {Weekday...\n",
      "5   Spam  {FirstName} has a WIC appt with People's Healt...\n"
     ]
    }
   ],
   "source": [
    "#Import Train and Test Datasets\n",
    "\n",
    "df_ham = pd.read_csv('../texts/hamCleanScrubbed.txt', sep='\\t', names=['labels','text']).drop_duplicates()\n",
    "df_spam = pd.read_csv('../texts/spamCleanScrubbed.txt', sep='\\t', names=['labels','text']).drop_duplicates()\n",
    "\n",
    "## Drop header if needed\n",
    "df_ham = df_ham.iloc[1: , :]\n",
    "df_spam = df_spam.iloc[1: , :]\n",
    "\n",
    "print('ham dataset:','\\n',df_ham.head(),'\\n\\n','spam dataset:','\\n',df_spam.head())"
   ]
  },
  {
   "cell_type": "code",
   "execution_count": 6,
   "metadata": {},
   "outputs": [
    {
     "data": {
      "text/html": [
       "<div>\n",
       "<style scoped>\n",
       "    .dataframe tbody tr th:only-of-type {\n",
       "        vertical-align: middle;\n",
       "    }\n",
       "\n",
       "    .dataframe tbody tr th {\n",
       "        vertical-align: top;\n",
       "    }\n",
       "\n",
       "    .dataframe thead th {\n",
       "        text-align: right;\n",
       "    }\n",
       "</style>\n",
       "<table border=\"1\" class=\"dataframe\">\n",
       "  <thead>\n",
       "    <tr style=\"text-align: right;\">\n",
       "      <th></th>\n",
       "      <th>labels</th>\n",
       "      <th>text</th>\n",
       "    </tr>\n",
       "  </thead>\n",
       "  <tbody>\n",
       "    <tr>\n",
       "      <th>1</th>\n",
       "      <td>Spam</td>\n",
       "      <td>{FirstName} has a WIC appt with People's Healt...</td>\n",
       "    </tr>\n",
       "    <tr>\n",
       "      <th>2</th>\n",
       "      <td>Spam</td>\n",
       "      <td>{FirstName} has missed a WIC appt on  {Weekday...</td>\n",
       "    </tr>\n",
       "    <tr>\n",
       "      <th>3</th>\n",
       "      <td>Spam</td>\n",
       "      <td>{FirstName} missed a WIC appt. Please call {Ph...</td>\n",
       "    </tr>\n",
       "    <tr>\n",
       "      <th>4</th>\n",
       "      <td>Spam</td>\n",
       "      <td>{FirstName} has missed a WIC appt on {Weekday...</td>\n",
       "    </tr>\n",
       "    <tr>\n",
       "      <th>5</th>\n",
       "      <td>Spam</td>\n",
       "      <td>{FirstName} has a WIC appt with People's Healt...</td>\n",
       "    </tr>\n",
       "    <tr>\n",
       "      <th>...</th>\n",
       "      <td>...</td>\n",
       "      <td>...</td>\n",
       "    </tr>\n",
       "    <tr>\n",
       "      <th>184</th>\n",
       "      <td>Spam</td>\n",
       "      <td>You were scheduled for an appt {Weekday}, {Mon...</td>\n",
       "    </tr>\n",
       "    <tr>\n",
       "      <th>185</th>\n",
       "      <td>Spam</td>\n",
       "      <td>You were scheduled for an appt {Weekday}, {Mon...</td>\n",
       "    </tr>\n",
       "    <tr>\n",
       "      <th>186</th>\n",
       "      <td>Spam</td>\n",
       "      <td>You were scheduled for an appt {Weekday}, {Mon...</td>\n",
       "    </tr>\n",
       "    <tr>\n",
       "      <th>187</th>\n",
       "      <td>Spam</td>\n",
       "      <td>You were scheduled for an appt {Weekday}, {Mon...</td>\n",
       "    </tr>\n",
       "    <tr>\n",
       "      <th>188</th>\n",
       "      <td>Spam</td>\n",
       "      <td>You were scheduled for an appt {Weekday}, {Mon...</td>\n",
       "    </tr>\n",
       "  </tbody>\n",
       "</table>\n",
       "<p>187 rows × 2 columns</p>\n",
       "</div>"
      ],
      "text/plain": [
       "    labels                                               text\n",
       "1     Spam  {FirstName} has a WIC appt with People's Healt...\n",
       "2     Spam  {FirstName} has missed a WIC appt on  {Weekday...\n",
       "3     Spam  {FirstName} missed a WIC appt. Please call {Ph...\n",
       "4     Spam   {FirstName} has missed a WIC appt on {Weekday...\n",
       "5     Spam  {FirstName} has a WIC appt with People's Healt...\n",
       "..     ...                                                ...\n",
       "184   Spam  You were scheduled for an appt {Weekday}, {Mon...\n",
       "185   Spam  You were scheduled for an appt {Weekday}, {Mon...\n",
       "186   Spam  You were scheduled for an appt {Weekday}, {Mon...\n",
       "187   Spam  You were scheduled for an appt {Weekday}, {Mon...\n",
       "188   Spam  You were scheduled for an appt {Weekday}, {Mon...\n",
       "\n",
       "[187 rows x 2 columns]"
      ]
     },
     "execution_count": 6,
     "metadata": {},
     "output_type": "execute_result"
    }
   ],
   "source": [
    "df_spam"
   ]
  },
  {
   "cell_type": "code",
   "execution_count": 7,
   "metadata": {},
   "outputs": [
    {
     "data": {
      "text/html": [
       "<div>\n",
       "<style scoped>\n",
       "    .dataframe tbody tr th:only-of-type {\n",
       "        vertical-align: middle;\n",
       "    }\n",
       "\n",
       "    .dataframe tbody tr th {\n",
       "        vertical-align: top;\n",
       "    }\n",
       "\n",
       "    .dataframe thead th {\n",
       "        text-align: right;\n",
       "    }\n",
       "</style>\n",
       "<table border=\"1\" class=\"dataframe\">\n",
       "  <thead>\n",
       "    <tr style=\"text-align: right;\">\n",
       "      <th></th>\n",
       "      <th>labels</th>\n",
       "      <th>text</th>\n",
       "    </tr>\n",
       "  </thead>\n",
       "  <tbody>\n",
       "    <tr>\n",
       "      <th>1</th>\n",
       "      <td>Ham</td>\n",
       "      <td>11616056 has a WIC appt on {Month} {Day} {Time...</td>\n",
       "    </tr>\n",
       "    <tr>\n",
       "      <th>2</th>\n",
       "      <td>Ham</td>\n",
       "      <td>1st of the Holiday Stress Busting Series, Art ...</td>\n",
       "    </tr>\n",
       "    <tr>\n",
       "      <th>3</th>\n",
       "      <td>Ham</td>\n",
       "      <td>21417272 has a WIC appt on {Month} {Day} {Time...</td>\n",
       "    </tr>\n",
       "    <tr>\n",
       "      <th>4</th>\n",
       "      <td>Ham</td>\n",
       "      <td>2 flu shots for  has an upcoming appt on {Mont...</td>\n",
       "    </tr>\n",
       "    <tr>\n",
       "      <th>5</th>\n",
       "      <td>Ham</td>\n",
       "      <td>31018019 has a WIC appt on {Month} {Day} at {T...</td>\n",
       "    </tr>\n",
       "    <tr>\n",
       "      <th>...</th>\n",
       "      <td>...</td>\n",
       "      <td>...</td>\n",
       "    </tr>\n",
       "    <tr>\n",
       "      <th>260960</th>\n",
       "      <td>Ham</td>\n",
       "      <td>預約提示：{FirstName}有一個預約在奶票部San Antonio wic于周一, 7...</td>\n",
       "    </tr>\n",
       "    <tr>\n",
       "      <th>260961</th>\n",
       "      <td>Ham</td>\n",
       "      <td>預約提示：Zoey有一個預約在奶票部San Antonio wic于周二, 11月 05日 ...</td>\n",
       "    </tr>\n",
       "    <tr>\n",
       "      <th>260962</th>\n",
       "      <td>Ham</td>\n",
       "      <td>預約提示：Zoey有一個預約在奶票部San Antonio wic于周二, 2月 04日 @...</td>\n",
       "    </tr>\n",
       "    <tr>\n",
       "      <th>260963</th>\n",
       "      <td>Ham</td>\n",
       "      <td>預約提示：{FirstName}有一個預約在奶票部San Antonio wic于周五, 4...</td>\n",
       "    </tr>\n",
       "    <tr>\n",
       "      <th>260964</th>\n",
       "      <td>Ham</td>\n",
       "      <td>預約提示：{FirstName}有一個預約在奶票部San Antonio wic于周四, 2...</td>\n",
       "    </tr>\n",
       "  </tbody>\n",
       "</table>\n",
       "<p>260292 rows × 2 columns</p>\n",
       "</div>"
      ],
      "text/plain": [
       "       labels                                               text\n",
       "1         Ham  11616056 has a WIC appt on {Month} {Day} {Time...\n",
       "2         Ham  1st of the Holiday Stress Busting Series, Art ...\n",
       "3         Ham  21417272 has a WIC appt on {Month} {Day} {Time...\n",
       "4         Ham  2 flu shots for  has an upcoming appt on {Mont...\n",
       "5         Ham  31018019 has a WIC appt on {Month} {Day} at {T...\n",
       "...       ...                                                ...\n",
       "260960    Ham  預約提示：{FirstName}有一個預約在奶票部San Antonio wic于周一, 7...\n",
       "260961    Ham  預約提示：Zoey有一個預約在奶票部San Antonio wic于周二, 11月 05日 ...\n",
       "260962    Ham  預約提示：Zoey有一個預約在奶票部San Antonio wic于周二, 2月 04日 @...\n",
       "260963    Ham  預約提示：{FirstName}有一個預約在奶票部San Antonio wic于周五, 4...\n",
       "260964    Ham  預約提示：{FirstName}有一個預約在奶票部San Antonio wic于周四, 2...\n",
       "\n",
       "[260292 rows x 2 columns]"
      ]
     },
     "execution_count": 7,
     "metadata": {},
     "output_type": "execute_result"
    }
   ],
   "source": [
    "df_ham"
   ]
  },
  {
   "cell_type": "code",
   "execution_count": 8,
   "metadata": {},
   "outputs": [],
   "source": [
    "## convert text to string\n",
    "df_ham['labels'] = df_ham['labels'].str.lower()\n",
    "df_spam['labels'] = df_spam['labels'].str.lower()\n",
    "\n"
   ]
  },
  {
   "cell_type": "code",
   "execution_count": 9,
   "metadata": {},
   "outputs": [
    {
     "data": {
      "text/html": [
       "<div>\n",
       "<style scoped>\n",
       "    .dataframe tbody tr th:only-of-type {\n",
       "        vertical-align: middle;\n",
       "    }\n",
       "\n",
       "    .dataframe tbody tr th {\n",
       "        vertical-align: top;\n",
       "    }\n",
       "\n",
       "    .dataframe thead th {\n",
       "        text-align: right;\n",
       "    }\n",
       "</style>\n",
       "<table border=\"1\" class=\"dataframe\">\n",
       "  <thead>\n",
       "    <tr style=\"text-align: right;\">\n",
       "      <th></th>\n",
       "      <th>labels</th>\n",
       "      <th>text</th>\n",
       "    </tr>\n",
       "  </thead>\n",
       "  <tbody>\n",
       "    <tr>\n",
       "      <th>1</th>\n",
       "      <td>spam</td>\n",
       "      <td>{FirstName} has a WIC appt with People's Healt...</td>\n",
       "    </tr>\n",
       "    <tr>\n",
       "      <th>2</th>\n",
       "      <td>spam</td>\n",
       "      <td>{FirstName} has missed a WIC appt on  {Weekday...</td>\n",
       "    </tr>\n",
       "    <tr>\n",
       "      <th>3</th>\n",
       "      <td>spam</td>\n",
       "      <td>{FirstName} missed a WIC appt. Please call {Ph...</td>\n",
       "    </tr>\n",
       "    <tr>\n",
       "      <th>4</th>\n",
       "      <td>spam</td>\n",
       "      <td>{FirstName} has missed a WIC appt on {Weekday...</td>\n",
       "    </tr>\n",
       "    <tr>\n",
       "      <th>5</th>\n",
       "      <td>spam</td>\n",
       "      <td>{FirstName} has a WIC appt with People's Healt...</td>\n",
       "    </tr>\n",
       "    <tr>\n",
       "      <th>...</th>\n",
       "      <td>...</td>\n",
       "      <td>...</td>\n",
       "    </tr>\n",
       "    <tr>\n",
       "      <th>184</th>\n",
       "      <td>spam</td>\n",
       "      <td>You were scheduled for an appt {Weekday}, {Mon...</td>\n",
       "    </tr>\n",
       "    <tr>\n",
       "      <th>185</th>\n",
       "      <td>spam</td>\n",
       "      <td>You were scheduled for an appt {Weekday}, {Mon...</td>\n",
       "    </tr>\n",
       "    <tr>\n",
       "      <th>186</th>\n",
       "      <td>spam</td>\n",
       "      <td>You were scheduled for an appt {Weekday}, {Mon...</td>\n",
       "    </tr>\n",
       "    <tr>\n",
       "      <th>187</th>\n",
       "      <td>spam</td>\n",
       "      <td>You were scheduled for an appt {Weekday}, {Mon...</td>\n",
       "    </tr>\n",
       "    <tr>\n",
       "      <th>188</th>\n",
       "      <td>spam</td>\n",
       "      <td>You were scheduled for an appt {Weekday}, {Mon...</td>\n",
       "    </tr>\n",
       "  </tbody>\n",
       "</table>\n",
       "<p>187 rows × 2 columns</p>\n",
       "</div>"
      ],
      "text/plain": [
       "    labels                                               text\n",
       "1     spam  {FirstName} has a WIC appt with People's Healt...\n",
       "2     spam  {FirstName} has missed a WIC appt on  {Weekday...\n",
       "3     spam  {FirstName} missed a WIC appt. Please call {Ph...\n",
       "4     spam   {FirstName} has missed a WIC appt on {Weekday...\n",
       "5     spam  {FirstName} has a WIC appt with People's Healt...\n",
       "..     ...                                                ...\n",
       "184   spam  You were scheduled for an appt {Weekday}, {Mon...\n",
       "185   spam  You were scheduled for an appt {Weekday}, {Mon...\n",
       "186   spam  You were scheduled for an appt {Weekday}, {Mon...\n",
       "187   spam  You were scheduled for an appt {Weekday}, {Mon...\n",
       "188   spam  You were scheduled for an appt {Weekday}, {Mon...\n",
       "\n",
       "[187 rows x 2 columns]"
      ]
     },
     "execution_count": 9,
     "metadata": {},
     "output_type": "execute_result"
    }
   ],
   "source": [
    "df_spam"
   ]
  },
  {
   "cell_type": "code",
   "execution_count": 10,
   "metadata": {},
   "outputs": [
    {
     "data": {
      "text/html": [
       "<div>\n",
       "<style scoped>\n",
       "    .dataframe tbody tr th:only-of-type {\n",
       "        vertical-align: middle;\n",
       "    }\n",
       "\n",
       "    .dataframe tbody tr th {\n",
       "        vertical-align: top;\n",
       "    }\n",
       "\n",
       "    .dataframe thead th {\n",
       "        text-align: right;\n",
       "    }\n",
       "</style>\n",
       "<table border=\"1\" class=\"dataframe\">\n",
       "  <thead>\n",
       "    <tr style=\"text-align: right;\">\n",
       "      <th></th>\n",
       "      <th>labels</th>\n",
       "      <th>text</th>\n",
       "    </tr>\n",
       "  </thead>\n",
       "  <tbody>\n",
       "    <tr>\n",
       "      <th>1</th>\n",
       "      <td>ham</td>\n",
       "      <td>11616056 has a WIC appt on {Month} {Day} {Time...</td>\n",
       "    </tr>\n",
       "    <tr>\n",
       "      <th>2</th>\n",
       "      <td>ham</td>\n",
       "      <td>1st of the Holiday Stress Busting Series, Art ...</td>\n",
       "    </tr>\n",
       "    <tr>\n",
       "      <th>3</th>\n",
       "      <td>ham</td>\n",
       "      <td>21417272 has a WIC appt on {Month} {Day} {Time...</td>\n",
       "    </tr>\n",
       "    <tr>\n",
       "      <th>4</th>\n",
       "      <td>ham</td>\n",
       "      <td>2 flu shots for  has an upcoming appt on {Mont...</td>\n",
       "    </tr>\n",
       "    <tr>\n",
       "      <th>5</th>\n",
       "      <td>ham</td>\n",
       "      <td>31018019 has a WIC appt on {Month} {Day} at {T...</td>\n",
       "    </tr>\n",
       "    <tr>\n",
       "      <th>...</th>\n",
       "      <td>...</td>\n",
       "      <td>...</td>\n",
       "    </tr>\n",
       "    <tr>\n",
       "      <th>260960</th>\n",
       "      <td>ham</td>\n",
       "      <td>預約提示：{FirstName}有一個預約在奶票部San Antonio wic于周一, 7...</td>\n",
       "    </tr>\n",
       "    <tr>\n",
       "      <th>260961</th>\n",
       "      <td>ham</td>\n",
       "      <td>預約提示：Zoey有一個預約在奶票部San Antonio wic于周二, 11月 05日 ...</td>\n",
       "    </tr>\n",
       "    <tr>\n",
       "      <th>260962</th>\n",
       "      <td>ham</td>\n",
       "      <td>預約提示：Zoey有一個預約在奶票部San Antonio wic于周二, 2月 04日 @...</td>\n",
       "    </tr>\n",
       "    <tr>\n",
       "      <th>260963</th>\n",
       "      <td>ham</td>\n",
       "      <td>預約提示：{FirstName}有一個預約在奶票部San Antonio wic于周五, 4...</td>\n",
       "    </tr>\n",
       "    <tr>\n",
       "      <th>260964</th>\n",
       "      <td>ham</td>\n",
       "      <td>預約提示：{FirstName}有一個預約在奶票部San Antonio wic于周四, 2...</td>\n",
       "    </tr>\n",
       "  </tbody>\n",
       "</table>\n",
       "<p>260292 rows × 2 columns</p>\n",
       "</div>"
      ],
      "text/plain": [
       "       labels                                               text\n",
       "1         ham  11616056 has a WIC appt on {Month} {Day} {Time...\n",
       "2         ham  1st of the Holiday Stress Busting Series, Art ...\n",
       "3         ham  21417272 has a WIC appt on {Month} {Day} {Time...\n",
       "4         ham  2 flu shots for  has an upcoming appt on {Mont...\n",
       "5         ham  31018019 has a WIC appt on {Month} {Day} at {T...\n",
       "...       ...                                                ...\n",
       "260960    ham  預約提示：{FirstName}有一個預約在奶票部San Antonio wic于周一, 7...\n",
       "260961    ham  預約提示：Zoey有一個預約在奶票部San Antonio wic于周二, 11月 05日 ...\n",
       "260962    ham  預約提示：Zoey有一個預約在奶票部San Antonio wic于周二, 2月 04日 @...\n",
       "260963    ham  預約提示：{FirstName}有一個預約在奶票部San Antonio wic于周五, 4...\n",
       "260964    ham  預約提示：{FirstName}有一個預約在奶票部San Antonio wic于周四, 2...\n",
       "\n",
       "[260292 rows x 2 columns]"
      ]
     },
     "execution_count": 10,
     "metadata": {},
     "output_type": "execute_result"
    }
   ],
   "source": [
    "df_ham"
   ]
  },
  {
   "cell_type": "code",
   "execution_count": 11,
   "metadata": {},
   "outputs": [],
   "source": [
    "## change ham to 0 and spam to 1\n",
    "df_ham['labels'] = df_ham['labels'].replace({'ham':'0', 'spam':'1'})\n",
    "df_spam['labels'] = df_spam['labels'].replace({'ham':'0', 'spam':'1'})\n",
    "\n"
   ]
  },
  {
   "cell_type": "code",
   "execution_count": 12,
   "metadata": {},
   "outputs": [
    {
     "data": {
      "text/html": [
       "<div>\n",
       "<style scoped>\n",
       "    .dataframe tbody tr th:only-of-type {\n",
       "        vertical-align: middle;\n",
       "    }\n",
       "\n",
       "    .dataframe tbody tr th {\n",
       "        vertical-align: top;\n",
       "    }\n",
       "\n",
       "    .dataframe thead th {\n",
       "        text-align: right;\n",
       "    }\n",
       "</style>\n",
       "<table border=\"1\" class=\"dataframe\">\n",
       "  <thead>\n",
       "    <tr style=\"text-align: right;\">\n",
       "      <th></th>\n",
       "      <th>labels</th>\n",
       "      <th>text</th>\n",
       "    </tr>\n",
       "  </thead>\n",
       "  <tbody>\n",
       "    <tr>\n",
       "      <th>1</th>\n",
       "      <td>1</td>\n",
       "      <td>{FirstName} has a WIC appt with People's Healt...</td>\n",
       "    </tr>\n",
       "    <tr>\n",
       "      <th>2</th>\n",
       "      <td>1</td>\n",
       "      <td>{FirstName} has missed a WIC appt on  {Weekday...</td>\n",
       "    </tr>\n",
       "    <tr>\n",
       "      <th>3</th>\n",
       "      <td>1</td>\n",
       "      <td>{FirstName} missed a WIC appt. Please call {Ph...</td>\n",
       "    </tr>\n",
       "    <tr>\n",
       "      <th>4</th>\n",
       "      <td>1</td>\n",
       "      <td>{FirstName} has missed a WIC appt on {Weekday...</td>\n",
       "    </tr>\n",
       "    <tr>\n",
       "      <th>5</th>\n",
       "      <td>1</td>\n",
       "      <td>{FirstName} has a WIC appt with People's Healt...</td>\n",
       "    </tr>\n",
       "    <tr>\n",
       "      <th>...</th>\n",
       "      <td>...</td>\n",
       "      <td>...</td>\n",
       "    </tr>\n",
       "    <tr>\n",
       "      <th>184</th>\n",
       "      <td>1</td>\n",
       "      <td>You were scheduled for an appt {Weekday}, {Mon...</td>\n",
       "    </tr>\n",
       "    <tr>\n",
       "      <th>185</th>\n",
       "      <td>1</td>\n",
       "      <td>You were scheduled for an appt {Weekday}, {Mon...</td>\n",
       "    </tr>\n",
       "    <tr>\n",
       "      <th>186</th>\n",
       "      <td>1</td>\n",
       "      <td>You were scheduled for an appt {Weekday}, {Mon...</td>\n",
       "    </tr>\n",
       "    <tr>\n",
       "      <th>187</th>\n",
       "      <td>1</td>\n",
       "      <td>You were scheduled for an appt {Weekday}, {Mon...</td>\n",
       "    </tr>\n",
       "    <tr>\n",
       "      <th>188</th>\n",
       "      <td>1</td>\n",
       "      <td>You were scheduled for an appt {Weekday}, {Mon...</td>\n",
       "    </tr>\n",
       "  </tbody>\n",
       "</table>\n",
       "<p>187 rows × 2 columns</p>\n",
       "</div>"
      ],
      "text/plain": [
       "    labels                                               text\n",
       "1        1  {FirstName} has a WIC appt with People's Healt...\n",
       "2        1  {FirstName} has missed a WIC appt on  {Weekday...\n",
       "3        1  {FirstName} missed a WIC appt. Please call {Ph...\n",
       "4        1   {FirstName} has missed a WIC appt on {Weekday...\n",
       "5        1  {FirstName} has a WIC appt with People's Healt...\n",
       "..     ...                                                ...\n",
       "184      1  You were scheduled for an appt {Weekday}, {Mon...\n",
       "185      1  You were scheduled for an appt {Weekday}, {Mon...\n",
       "186      1  You were scheduled for an appt {Weekday}, {Mon...\n",
       "187      1  You were scheduled for an appt {Weekday}, {Mon...\n",
       "188      1  You were scheduled for an appt {Weekday}, {Mon...\n",
       "\n",
       "[187 rows x 2 columns]"
      ]
     },
     "execution_count": 12,
     "metadata": {},
     "output_type": "execute_result"
    }
   ],
   "source": [
    "df_spam"
   ]
  },
  {
   "cell_type": "code",
   "execution_count": 13,
   "metadata": {},
   "outputs": [
    {
     "data": {
      "text/html": [
       "<div>\n",
       "<style scoped>\n",
       "    .dataframe tbody tr th:only-of-type {\n",
       "        vertical-align: middle;\n",
       "    }\n",
       "\n",
       "    .dataframe tbody tr th {\n",
       "        vertical-align: top;\n",
       "    }\n",
       "\n",
       "    .dataframe thead th {\n",
       "        text-align: right;\n",
       "    }\n",
       "</style>\n",
       "<table border=\"1\" class=\"dataframe\">\n",
       "  <thead>\n",
       "    <tr style=\"text-align: right;\">\n",
       "      <th></th>\n",
       "      <th>labels</th>\n",
       "      <th>text</th>\n",
       "    </tr>\n",
       "  </thead>\n",
       "  <tbody>\n",
       "    <tr>\n",
       "      <th>1</th>\n",
       "      <td>0</td>\n",
       "      <td>11616056 has a WIC appt on {Month} {Day} {Time...</td>\n",
       "    </tr>\n",
       "    <tr>\n",
       "      <th>2</th>\n",
       "      <td>0</td>\n",
       "      <td>1st of the Holiday Stress Busting Series, Art ...</td>\n",
       "    </tr>\n",
       "    <tr>\n",
       "      <th>3</th>\n",
       "      <td>0</td>\n",
       "      <td>21417272 has a WIC appt on {Month} {Day} {Time...</td>\n",
       "    </tr>\n",
       "    <tr>\n",
       "      <th>4</th>\n",
       "      <td>0</td>\n",
       "      <td>2 flu shots for  has an upcoming appt on {Mont...</td>\n",
       "    </tr>\n",
       "    <tr>\n",
       "      <th>5</th>\n",
       "      <td>0</td>\n",
       "      <td>31018019 has a WIC appt on {Month} {Day} at {T...</td>\n",
       "    </tr>\n",
       "    <tr>\n",
       "      <th>...</th>\n",
       "      <td>...</td>\n",
       "      <td>...</td>\n",
       "    </tr>\n",
       "    <tr>\n",
       "      <th>260960</th>\n",
       "      <td>0</td>\n",
       "      <td>預約提示：{FirstName}有一個預約在奶票部San Antonio wic于周一, 7...</td>\n",
       "    </tr>\n",
       "    <tr>\n",
       "      <th>260961</th>\n",
       "      <td>0</td>\n",
       "      <td>預約提示：Zoey有一個預約在奶票部San Antonio wic于周二, 11月 05日 ...</td>\n",
       "    </tr>\n",
       "    <tr>\n",
       "      <th>260962</th>\n",
       "      <td>0</td>\n",
       "      <td>預約提示：Zoey有一個預約在奶票部San Antonio wic于周二, 2月 04日 @...</td>\n",
       "    </tr>\n",
       "    <tr>\n",
       "      <th>260963</th>\n",
       "      <td>0</td>\n",
       "      <td>預約提示：{FirstName}有一個預約在奶票部San Antonio wic于周五, 4...</td>\n",
       "    </tr>\n",
       "    <tr>\n",
       "      <th>260964</th>\n",
       "      <td>0</td>\n",
       "      <td>預約提示：{FirstName}有一個預約在奶票部San Antonio wic于周四, 2...</td>\n",
       "    </tr>\n",
       "  </tbody>\n",
       "</table>\n",
       "<p>260292 rows × 2 columns</p>\n",
       "</div>"
      ],
      "text/plain": [
       "       labels                                               text\n",
       "1           0  11616056 has a WIC appt on {Month} {Day} {Time...\n",
       "2           0  1st of the Holiday Stress Busting Series, Art ...\n",
       "3           0  21417272 has a WIC appt on {Month} {Day} {Time...\n",
       "4           0  2 flu shots for  has an upcoming appt on {Mont...\n",
       "5           0  31018019 has a WIC appt on {Month} {Day} at {T...\n",
       "...       ...                                                ...\n",
       "260960      0  預約提示：{FirstName}有一個預約在奶票部San Antonio wic于周一, 7...\n",
       "260961      0  預約提示：Zoey有一個預約在奶票部San Antonio wic于周二, 11月 05日 ...\n",
       "260962      0  預約提示：Zoey有一個預約在奶票部San Antonio wic于周二, 2月 04日 @...\n",
       "260963      0  預約提示：{FirstName}有一個預約在奶票部San Antonio wic于周五, 4...\n",
       "260964      0  預約提示：{FirstName}有一個預約在奶票部San Antonio wic于周四, 2...\n",
       "\n",
       "[260292 rows x 2 columns]"
      ]
     },
     "execution_count": 13,
     "metadata": {},
     "output_type": "execute_result"
    }
   ],
   "source": [
    "df_ham"
   ]
  },
  {
   "cell_type": "code",
   "execution_count": null,
   "metadata": {},
   "outputs": [],
   "source": []
  },
  {
   "cell_type": "code",
   "execution_count": 14,
   "metadata": {},
   "outputs": [],
   "source": [
    "## confirm there's no ham in spam and vice versa\n",
    "#df_ham = df_ham[df_ham['labels'] == 0]\n",
    "#df_spam = df_spam[df_spam['labels'] == 1]\n",
    "\n"
   ]
  },
  {
   "cell_type": "code",
   "execution_count": 15,
   "metadata": {},
   "outputs": [
    {
     "data": {
      "text/html": [
       "<div>\n",
       "<style scoped>\n",
       "    .dataframe tbody tr th:only-of-type {\n",
       "        vertical-align: middle;\n",
       "    }\n",
       "\n",
       "    .dataframe tbody tr th {\n",
       "        vertical-align: top;\n",
       "    }\n",
       "\n",
       "    .dataframe thead th {\n",
       "        text-align: right;\n",
       "    }\n",
       "</style>\n",
       "<table border=\"1\" class=\"dataframe\">\n",
       "  <thead>\n",
       "    <tr style=\"text-align: right;\">\n",
       "      <th></th>\n",
       "      <th>labels</th>\n",
       "      <th>text</th>\n",
       "    </tr>\n",
       "  </thead>\n",
       "  <tbody>\n",
       "    <tr>\n",
       "      <th>1</th>\n",
       "      <td>0</td>\n",
       "      <td>11616056 has a WIC appt on {Month} {Day} {Time...</td>\n",
       "    </tr>\n",
       "    <tr>\n",
       "      <th>2</th>\n",
       "      <td>0</td>\n",
       "      <td>1st of the Holiday Stress Busting Series, Art ...</td>\n",
       "    </tr>\n",
       "    <tr>\n",
       "      <th>3</th>\n",
       "      <td>0</td>\n",
       "      <td>21417272 has a WIC appt on {Month} {Day} {Time...</td>\n",
       "    </tr>\n",
       "    <tr>\n",
       "      <th>4</th>\n",
       "      <td>0</td>\n",
       "      <td>2 flu shots for  has an upcoming appt on {Mont...</td>\n",
       "    </tr>\n",
       "    <tr>\n",
       "      <th>5</th>\n",
       "      <td>0</td>\n",
       "      <td>31018019 has a WIC appt on {Month} {Day} at {T...</td>\n",
       "    </tr>\n",
       "    <tr>\n",
       "      <th>...</th>\n",
       "      <td>...</td>\n",
       "      <td>...</td>\n",
       "    </tr>\n",
       "    <tr>\n",
       "      <th>260960</th>\n",
       "      <td>0</td>\n",
       "      <td>預約提示：{FirstName}有一個預約在奶票部San Antonio wic于周一, 7...</td>\n",
       "    </tr>\n",
       "    <tr>\n",
       "      <th>260961</th>\n",
       "      <td>0</td>\n",
       "      <td>預約提示：Zoey有一個預約在奶票部San Antonio wic于周二, 11月 05日 ...</td>\n",
       "    </tr>\n",
       "    <tr>\n",
       "      <th>260962</th>\n",
       "      <td>0</td>\n",
       "      <td>預約提示：Zoey有一個預約在奶票部San Antonio wic于周二, 2月 04日 @...</td>\n",
       "    </tr>\n",
       "    <tr>\n",
       "      <th>260963</th>\n",
       "      <td>0</td>\n",
       "      <td>預約提示：{FirstName}有一個預約在奶票部San Antonio wic于周五, 4...</td>\n",
       "    </tr>\n",
       "    <tr>\n",
       "      <th>260964</th>\n",
       "      <td>0</td>\n",
       "      <td>預約提示：{FirstName}有一個預約在奶票部San Antonio wic于周四, 2...</td>\n",
       "    </tr>\n",
       "  </tbody>\n",
       "</table>\n",
       "<p>260292 rows × 2 columns</p>\n",
       "</div>"
      ],
      "text/plain": [
       "       labels                                               text\n",
       "1           0  11616056 has a WIC appt on {Month} {Day} {Time...\n",
       "2           0  1st of the Holiday Stress Busting Series, Art ...\n",
       "3           0  21417272 has a WIC appt on {Month} {Day} {Time...\n",
       "4           0  2 flu shots for  has an upcoming appt on {Mont...\n",
       "5           0  31018019 has a WIC appt on {Month} {Day} at {T...\n",
       "...       ...                                                ...\n",
       "260960      0  預約提示：{FirstName}有一個預約在奶票部San Antonio wic于周一, 7...\n",
       "260961      0  預約提示：Zoey有一個預約在奶票部San Antonio wic于周二, 11月 05日 ...\n",
       "260962      0  預約提示：Zoey有一個預約在奶票部San Antonio wic于周二, 2月 04日 @...\n",
       "260963      0  預約提示：{FirstName}有一個預約在奶票部San Antonio wic于周五, 4...\n",
       "260964      0  預約提示：{FirstName}有一個預約在奶票部San Antonio wic于周四, 2...\n",
       "\n",
       "[260292 rows x 2 columns]"
      ]
     },
     "execution_count": 15,
     "metadata": {},
     "output_type": "execute_result"
    }
   ],
   "source": [
    "df_ham"
   ]
  },
  {
   "cell_type": "code",
   "execution_count": 16,
   "metadata": {},
   "outputs": [
    {
     "data": {
      "text/html": [
       "<div>\n",
       "<style scoped>\n",
       "    .dataframe tbody tr th:only-of-type {\n",
       "        vertical-align: middle;\n",
       "    }\n",
       "\n",
       "    .dataframe tbody tr th {\n",
       "        vertical-align: top;\n",
       "    }\n",
       "\n",
       "    .dataframe thead th {\n",
       "        text-align: right;\n",
       "    }\n",
       "</style>\n",
       "<table border=\"1\" class=\"dataframe\">\n",
       "  <thead>\n",
       "    <tr style=\"text-align: right;\">\n",
       "      <th></th>\n",
       "      <th>labels</th>\n",
       "      <th>text</th>\n",
       "    </tr>\n",
       "  </thead>\n",
       "  <tbody>\n",
       "    <tr>\n",
       "      <th>1</th>\n",
       "      <td>1</td>\n",
       "      <td>{FirstName} has a WIC appt with People's Healt...</td>\n",
       "    </tr>\n",
       "    <tr>\n",
       "      <th>2</th>\n",
       "      <td>1</td>\n",
       "      <td>{FirstName} has missed a WIC appt on  {Weekday...</td>\n",
       "    </tr>\n",
       "    <tr>\n",
       "      <th>3</th>\n",
       "      <td>1</td>\n",
       "      <td>{FirstName} missed a WIC appt. Please call {Ph...</td>\n",
       "    </tr>\n",
       "    <tr>\n",
       "      <th>4</th>\n",
       "      <td>1</td>\n",
       "      <td>{FirstName} has missed a WIC appt on {Weekday...</td>\n",
       "    </tr>\n",
       "    <tr>\n",
       "      <th>5</th>\n",
       "      <td>1</td>\n",
       "      <td>{FirstName} has a WIC appt with People's Healt...</td>\n",
       "    </tr>\n",
       "    <tr>\n",
       "      <th>...</th>\n",
       "      <td>...</td>\n",
       "      <td>...</td>\n",
       "    </tr>\n",
       "    <tr>\n",
       "      <th>184</th>\n",
       "      <td>1</td>\n",
       "      <td>You were scheduled for an appt {Weekday}, {Mon...</td>\n",
       "    </tr>\n",
       "    <tr>\n",
       "      <th>185</th>\n",
       "      <td>1</td>\n",
       "      <td>You were scheduled for an appt {Weekday}, {Mon...</td>\n",
       "    </tr>\n",
       "    <tr>\n",
       "      <th>186</th>\n",
       "      <td>1</td>\n",
       "      <td>You were scheduled for an appt {Weekday}, {Mon...</td>\n",
       "    </tr>\n",
       "    <tr>\n",
       "      <th>187</th>\n",
       "      <td>1</td>\n",
       "      <td>You were scheduled for an appt {Weekday}, {Mon...</td>\n",
       "    </tr>\n",
       "    <tr>\n",
       "      <th>188</th>\n",
       "      <td>1</td>\n",
       "      <td>You were scheduled for an appt {Weekday}, {Mon...</td>\n",
       "    </tr>\n",
       "  </tbody>\n",
       "</table>\n",
       "<p>187 rows × 2 columns</p>\n",
       "</div>"
      ],
      "text/plain": [
       "    labels                                               text\n",
       "1        1  {FirstName} has a WIC appt with People's Healt...\n",
       "2        1  {FirstName} has missed a WIC appt on  {Weekday...\n",
       "3        1  {FirstName} missed a WIC appt. Please call {Ph...\n",
       "4        1   {FirstName} has missed a WIC appt on {Weekday...\n",
       "5        1  {FirstName} has a WIC appt with People's Healt...\n",
       "..     ...                                                ...\n",
       "184      1  You were scheduled for an appt {Weekday}, {Mon...\n",
       "185      1  You were scheduled for an appt {Weekday}, {Mon...\n",
       "186      1  You were scheduled for an appt {Weekday}, {Mon...\n",
       "187      1  You were scheduled for an appt {Weekday}, {Mon...\n",
       "188      1  You were scheduled for an appt {Weekday}, {Mon...\n",
       "\n",
       "[187 rows x 2 columns]"
      ]
     },
     "execution_count": 16,
     "metadata": {},
     "output_type": "execute_result"
    }
   ],
   "source": [
    "df_spam"
   ]
  },
  {
   "cell_type": "code",
   "execution_count": 17,
   "metadata": {},
   "outputs": [],
   "source": [
    "## Resample data\n",
    "from sklearn.utils import resample\n",
    "## Downsample majority class\n",
    "df_ham_downsampled = resample(df_ham, \n",
    "                                replace=True,   ##replace=False when downsampling, True when upsampling\n",
    "                                n_samples=50)\n"
   ]
  },
  {
   "cell_type": "code",
   "execution_count": 18,
   "metadata": {},
   "outputs": [
    {
     "name": "stderr",
     "output_type": "stream",
     "text": [
      "C:\\Users\\ICS\\AppData\\Local\\Temp\\ipykernel_9688\\3686834458.py:14: SettingWithCopyWarning: \n",
      "A value is trying to be set on a copy of a slice from a DataFrame.\n",
      "Try using .loc[row_indexer,col_indexer] = value instead\n",
      "\n",
      "See the caveats in the documentation: https://pandas.pydata.org/pandas-docs/stable/user_guide/indexing.html#returning-a-view-versus-a-copy\n",
      "  df_train.loc[:, 'id'] = df_train.index + 1\n",
      "C:\\Users\\ICS\\AppData\\Local\\Temp\\ipykernel_9688\\3686834458.py:15: SettingWithCopyWarning: \n",
      "A value is trying to be set on a copy of a slice from a DataFrame.\n",
      "Try using .loc[row_indexer,col_indexer] = value instead\n",
      "\n",
      "See the caveats in the documentation: https://pandas.pydata.org/pandas-docs/stable/user_guide/indexing.html#returning-a-view-versus-a-copy\n",
      "  df_train['id'] = df_train['id'].astype(pd.Int64Dtype())\n",
      "C:\\Users\\ICS\\AppData\\Local\\Temp\\ipykernel_9688\\3686834458.py:21: SettingWithCopyWarning: \n",
      "A value is trying to be set on a copy of a slice from a DataFrame.\n",
      "Try using .loc[row_indexer,col_indexer] = value instead\n",
      "\n",
      "See the caveats in the documentation: https://pandas.pydata.org/pandas-docs/stable/user_guide/indexing.html#returning-a-view-versus-a-copy\n",
      "  df_test.loc[:,'id'] = len(df_train.index) + df_test.index + 1\n",
      "C:\\Users\\ICS\\AppData\\Local\\Temp\\ipykernel_9688\\3686834458.py:22: SettingWithCopyWarning: \n",
      "A value is trying to be set on a copy of a slice from a DataFrame.\n",
      "Try using .loc[row_indexer,col_indexer] = value instead\n",
      "\n",
      "See the caveats in the documentation: https://pandas.pydata.org/pandas-docs/stable/user_guide/indexing.html#returning-a-view-versus-a-copy\n",
      "  df_test['id'] = df_test.loc[:,'id'].astype(pd.Int64Dtype())\n"
     ]
    },
    {
     "name": "stdout",
     "output_type": "stream",
     "text": [
      "training rows:  77\n",
      "testing rows:  18\n"
     ]
    }
   ],
   "source": [
    "#Upsample minority class\n",
    "df_spam_upsampled = resample(df_spam, \n",
    "                                replace=True,     \n",
    "                                n_samples=50)\n",
    "\n",
    "# Combine minority class with downsampled majority class\n",
    "df_up_down_sampled = pd.concat([df_ham_downsampled, df_spam_upsampled]).drop_duplicates()\n",
    "\n",
    "## create train/test split\n",
    "train = np.random.rand(len(df_up_down_sampled)) < 0.75\n",
    "df_train = df_up_down_sampled[train]\n",
    "\n",
    "df_train.reset_index(drop=True, inplace=True)\n",
    "df_train.loc[:, 'id'] = df_train.index + 1\n",
    "df_train['id'] = df_train['id'].astype(pd.Int64Dtype())\n",
    "df_train = df_train[['id','text','labels']]\n",
    "df_train.to_csv('train.csv', index=False)\n",
    "\n",
    "df_test = df_up_down_sampled[~train]\n",
    "df_test.reset_index(drop=True, inplace=True)\n",
    "df_test.loc[:,'id'] = len(df_train.index) + df_test.index + 1\n",
    "df_test['id'] = df_test.loc[:,'id'].astype(pd.Int64Dtype())\n",
    "df_test = df_test[['id','text','labels']]\n",
    "df_test.to_csv('test.csv', index=False)\n",
    "\n",
    "## print train/test data sizes\n",
    "print(\"training rows: \",len(df_train.index))\n",
    "print(\"testing rows: \",len(df_test.index))\n",
    "\n",
    "## drop individual tables to free memory\n",
    "del [[df_ham,df_spam,df_ham_downsampled,df_spam_upsampled,df_up_down_sampled]]"
   ]
  },
  {
   "cell_type": "code",
   "execution_count": null,
   "metadata": {},
   "outputs": [],
   "source": []
  },
  {
   "cell_type": "code",
   "execution_count": null,
   "metadata": {},
   "outputs": [],
   "source": []
  },
  {
   "cell_type": "code",
   "execution_count": 19,
   "metadata": {},
   "outputs": [
    {
     "name": "stdout",
     "output_type": "stream",
     "text": [
      "   id                                               text labels\n",
      "0   1  {FirstName} has a WIC appt on {Month} {Day} {T...      0\n",
      "1   2  Allison Castro A partir del 1 de {Month} de 20...      0\n",
      "2   3  This is the Morris Heights Center WIC program ...      0\n",
      "3   4  Avery has a WIC appt on {Weekday}, {Month} {Da...      0\n",
      "4   5  {FirstName} {LastName} Marion has a WIC appt o...      0    id                                               text labels\n",
      "0  78  {FirstName} {LastName} Jarred has a WIC appt o...      0\n",
      "1  79  Mandalyn has an appt with HCA on {Month} {Day}...      0\n",
      "2  80  This is a reminder for Jasmine you have a WIC ...      0\n",
      "3  81  This is Sacaton {Clinic} with a reminder to ve...      0\n",
      "4  82  Saludos de WIC, su cita de WIC fue el viernes ...      0\n"
     ]
    }
   ],
   "source": [
    "## Drop ID columns for training/testing\n",
    "df_train.drop(columns = 'id')\n",
    "df_test.drop(columns = 'id')\n",
    "print(df_train.head(),df_test.head())"
   ]
  },
  {
   "cell_type": "code",
   "execution_count": null,
   "metadata": {},
   "outputs": [],
   "source": []
  },
  {
   "cell_type": "code",
   "execution_count": 20,
   "metadata": {},
   "outputs": [
    {
     "name": "stdout",
     "output_type": "stream",
     "text": [
      "<class 'pandas.core.frame.DataFrame'>\n",
      "RangeIndex: 77 entries, 0 to 76\n",
      "Data columns (total 3 columns):\n",
      " #   Column  Non-Null Count  Dtype \n",
      "---  ------  --------------  ----- \n",
      " 0   id      77 non-null     Int64 \n",
      " 1   text    76 non-null     object\n",
      " 2   labels  77 non-null     object\n",
      "dtypes: Int64(1), object(2)\n",
      "memory usage: 2.0+ KB\n",
      "<class 'pandas.core.frame.DataFrame'>\n",
      "RangeIndex: 18 entries, 0 to 17\n",
      "Data columns (total 3 columns):\n",
      " #   Column  Non-Null Count  Dtype \n",
      "---  ------  --------------  ----- \n",
      " 0   id      18 non-null     Int64 \n",
      " 1   text    18 non-null     object\n",
      " 2   labels  18 non-null     object\n",
      "dtypes: Int64(1), object(2)\n",
      "memory usage: 578.0+ bytes\n"
     ]
    }
   ],
   "source": [
    "## Check dataframe type for model\n",
    "df_train.info()\n",
    "df_test.info()"
   ]
  },
  {
   "cell_type": "markdown",
   "metadata": {},
   "source": [
    "### 3. Create Classification Model"
   ]
  },
  {
   "cell_type": "code",
   "execution_count": null,
   "metadata": {},
   "outputs": [],
   "source": []
  },
  {
   "cell_type": "code",
   "execution_count": 21,
   "metadata": {},
   "outputs": [],
   "source": [
    "#Set and create the classification model we want to use\n",
    "\n",
    "model_args = ClassificationArgs()\n",
    "model_args.num_train_epochs = 1\n",
    "model_args.learning_rate = 2e-5\n",
    "model_args.train_batch_size = 16\n",
    "model_args.eval_batch_size = 16\n",
    "model_args.manual_seed = 42\n",
    "model_args.optimized = \"AdamW\"\n",
    "model_args.adam_epsilon = 1e-8\n",
    "model_args.reprocess_input_data = True\n",
    "model_args.overwrite_output_dir = True\n",
    "\n",
    "\n"
   ]
  },
  {
   "cell_type": "code",
   "execution_count": 22,
   "metadata": {},
   "outputs": [],
   "source": [
    "#model = ClassificationModel('roberta', 'mariagrandury/roberta-base-finetuned-sms-spam-detection', num_labels=2,use_cuda=False, weight=[1 , len(df_ham) / len(df_spam_upsampled)], args=model_args)\n",
    "model = ClassificationModel('roberta', 'mariagrandury/roberta-base-finetuned-sms-spam-detection',use_cuda=False, num_labels=2, weight=[1 , 1], args=model_args)\n",
    "#model = ClassificationModel('roberta', 'roberta-base', use_cuda=False, args={'reprocess_input_data': True, 'overwrite_output_dir': True})\n",
    "\n"
   ]
  },
  {
   "cell_type": "code",
   "execution_count": 23,
   "metadata": {
    "scrolled": true
   },
   "outputs": [
    {
     "name": "stderr",
     "output_type": "stream",
     "text": [
      "INFO:simpletransformers.classification.classification_utils: Converting to features started. Cache is not used.\n"
     ]
    },
    {
     "data": {
      "application/vnd.jupyter.widget-view+json": {
       "model_id": "371394120b8e41f59770b63d4249befd",
       "version_major": 2,
       "version_minor": 0
      },
      "text/plain": [
       "  0%|          | 0/77 [00:00<?, ?it/s]"
      ]
     },
     "metadata": {},
     "output_type": "display_data"
    },
    {
     "ename": "ValueError",
     "evalue": "too many dimensions 'str'",
     "output_type": "error",
     "traceback": [
      "\u001b[1;31m---------------------------------------------------------------------------\u001b[0m",
      "\u001b[1;31mValueError\u001b[0m                                Traceback (most recent call last)",
      "Input \u001b[1;32mIn [23]\u001b[0m, in \u001b[0;36m<cell line: 2>\u001b[1;34m()\u001b[0m\n\u001b[0;32m      1\u001b[0m \u001b[38;5;66;03m#Train the classification model using training data\u001b[39;00m\n\u001b[1;32m----> 2\u001b[0m \u001b[43mmodel\u001b[49m\u001b[38;5;241;43m.\u001b[39;49m\u001b[43mtrain_model\u001b[49m\u001b[43m(\u001b[49m\u001b[43mdf_train\u001b[49m\u001b[43m)\u001b[49m\n",
      "File \u001b[1;32m~\\AppData\\Local\\Programs\\Python\\Python310\\lib\\site-packages\\simpletransformers\\classification\\classification_model.py:619\u001b[0m, in \u001b[0;36mClassificationModel.train_model\u001b[1;34m(self, train_df, multi_label, output_dir, show_running_loss, args, eval_df, verbose, **kwargs)\u001b[0m\n\u001b[0;32m    612\u001b[0m         warnings\u001b[38;5;241m.\u001b[39mwarn(\n\u001b[0;32m    613\u001b[0m             \u001b[38;5;124m\"\u001b[39m\u001b[38;5;124mDataframe headers not specified. Falling back to using column 0 as text and column 1 as labels.\u001b[39m\u001b[38;5;124m\"\u001b[39m\n\u001b[0;32m    614\u001b[0m         )\n\u001b[0;32m    615\u001b[0m         train_examples \u001b[38;5;241m=\u001b[39m (\n\u001b[0;32m    616\u001b[0m             train_df\u001b[38;5;241m.\u001b[39miloc[:, \u001b[38;5;241m0\u001b[39m]\u001b[38;5;241m.\u001b[39mastype(\u001b[38;5;28mstr\u001b[39m)\u001b[38;5;241m.\u001b[39mtolist(),\n\u001b[0;32m    617\u001b[0m             train_df\u001b[38;5;241m.\u001b[39miloc[:, \u001b[38;5;241m1\u001b[39m]\u001b[38;5;241m.\u001b[39mtolist(),\n\u001b[0;32m    618\u001b[0m         )\n\u001b[1;32m--> 619\u001b[0m     train_dataset \u001b[38;5;241m=\u001b[39m \u001b[38;5;28;43mself\u001b[39;49m\u001b[38;5;241;43m.\u001b[39;49m\u001b[43mload_and_cache_examples\u001b[49m\u001b[43m(\u001b[49m\n\u001b[0;32m    620\u001b[0m \u001b[43m        \u001b[49m\u001b[43mtrain_examples\u001b[49m\u001b[43m,\u001b[49m\u001b[43m \u001b[49m\u001b[43mverbose\u001b[49m\u001b[38;5;241;43m=\u001b[39;49m\u001b[43mverbose\u001b[49m\n\u001b[0;32m    621\u001b[0m \u001b[43m    \u001b[49m\u001b[43m)\u001b[49m\n\u001b[0;32m    622\u001b[0m train_sampler \u001b[38;5;241m=\u001b[39m RandomSampler(train_dataset)\n\u001b[0;32m    623\u001b[0m train_dataloader \u001b[38;5;241m=\u001b[39m DataLoader(\n\u001b[0;32m    624\u001b[0m     train_dataset,\n\u001b[0;32m    625\u001b[0m     sampler\u001b[38;5;241m=\u001b[39mtrain_sampler,\n\u001b[0;32m    626\u001b[0m     batch_size\u001b[38;5;241m=\u001b[39m\u001b[38;5;28mself\u001b[39m\u001b[38;5;241m.\u001b[39margs\u001b[38;5;241m.\u001b[39mtrain_batch_size,\n\u001b[0;32m    627\u001b[0m     num_workers\u001b[38;5;241m=\u001b[39m\u001b[38;5;28mself\u001b[39m\u001b[38;5;241m.\u001b[39margs\u001b[38;5;241m.\u001b[39mdataloader_num_workers,\n\u001b[0;32m    628\u001b[0m )\n",
      "File \u001b[1;32m~\\AppData\\Local\\Programs\\Python\\Python310\\lib\\site-packages\\simpletransformers\\classification\\classification_model.py:1827\u001b[0m, in \u001b[0;36mClassificationModel.load_and_cache_examples\u001b[1;34m(self, examples, evaluate, no_cache, multi_label, verbose, silent)\u001b[0m\n\u001b[0;32m   1825\u001b[0m         \u001b[38;5;28;01mreturn\u001b[39;00m dataset\n\u001b[0;32m   1826\u001b[0m \u001b[38;5;28;01melse\u001b[39;00m:\n\u001b[1;32m-> 1827\u001b[0m     dataset \u001b[38;5;241m=\u001b[39m \u001b[43mClassificationDataset\u001b[49m\u001b[43m(\u001b[49m\n\u001b[0;32m   1828\u001b[0m \u001b[43m        \u001b[49m\u001b[43mexamples\u001b[49m\u001b[43m,\u001b[49m\n\u001b[0;32m   1829\u001b[0m \u001b[43m        \u001b[49m\u001b[38;5;28;43mself\u001b[39;49m\u001b[38;5;241;43m.\u001b[39;49m\u001b[43mtokenizer\u001b[49m\u001b[43m,\u001b[49m\n\u001b[0;32m   1830\u001b[0m \u001b[43m        \u001b[49m\u001b[38;5;28;43mself\u001b[39;49m\u001b[38;5;241;43m.\u001b[39;49m\u001b[43margs\u001b[49m\u001b[43m,\u001b[49m\n\u001b[0;32m   1831\u001b[0m \u001b[43m        \u001b[49m\u001b[43mmode\u001b[49m\u001b[38;5;241;43m=\u001b[39;49m\u001b[43mmode\u001b[49m\u001b[43m,\u001b[49m\n\u001b[0;32m   1832\u001b[0m \u001b[43m        \u001b[49m\u001b[43mmulti_label\u001b[49m\u001b[38;5;241;43m=\u001b[39;49m\u001b[43mmulti_label\u001b[49m\u001b[43m,\u001b[49m\n\u001b[0;32m   1833\u001b[0m \u001b[43m        \u001b[49m\u001b[43moutput_mode\u001b[49m\u001b[38;5;241;43m=\u001b[39;49m\u001b[43moutput_mode\u001b[49m\u001b[43m,\u001b[49m\n\u001b[0;32m   1834\u001b[0m \u001b[43m        \u001b[49m\u001b[43mno_cache\u001b[49m\u001b[38;5;241;43m=\u001b[39;49m\u001b[43mno_cache\u001b[49m\u001b[43m,\u001b[49m\n\u001b[0;32m   1835\u001b[0m \u001b[43m    \u001b[49m\u001b[43m)\u001b[49m\n\u001b[0;32m   1836\u001b[0m     \u001b[38;5;28;01mreturn\u001b[39;00m dataset\n",
      "File \u001b[1;32m~\\AppData\\Local\\Programs\\Python\\Python310\\lib\\site-packages\\simpletransformers\\classification\\classification_utils.py:282\u001b[0m, in \u001b[0;36mClassificationDataset.__init__\u001b[1;34m(self, data, tokenizer, args, mode, multi_label, output_mode, no_cache)\u001b[0m\n\u001b[0;32m    281\u001b[0m \u001b[38;5;28;01mdef\u001b[39;00m \u001b[38;5;21m__init__\u001b[39m(\u001b[38;5;28mself\u001b[39m, data, tokenizer, args, mode, multi_label, output_mode, no_cache):\n\u001b[1;32m--> 282\u001b[0m     \u001b[38;5;28mself\u001b[39m\u001b[38;5;241m.\u001b[39mexamples, \u001b[38;5;28mself\u001b[39m\u001b[38;5;241m.\u001b[39mlabels \u001b[38;5;241m=\u001b[39m \u001b[43mbuild_classification_dataset\u001b[49m\u001b[43m(\u001b[49m\n\u001b[0;32m    283\u001b[0m \u001b[43m        \u001b[49m\u001b[43mdata\u001b[49m\u001b[43m,\u001b[49m\u001b[43m \u001b[49m\u001b[43mtokenizer\u001b[49m\u001b[43m,\u001b[49m\u001b[43m \u001b[49m\u001b[43margs\u001b[49m\u001b[43m,\u001b[49m\u001b[43m \u001b[49m\u001b[43mmode\u001b[49m\u001b[43m,\u001b[49m\u001b[43m \u001b[49m\u001b[43mmulti_label\u001b[49m\u001b[43m,\u001b[49m\u001b[43m \u001b[49m\u001b[43moutput_mode\u001b[49m\u001b[43m,\u001b[49m\u001b[43m \u001b[49m\u001b[43mno_cache\u001b[49m\n\u001b[0;32m    284\u001b[0m \u001b[43m    \u001b[49m\u001b[43m)\u001b[49m\n",
      "File \u001b[1;32m~\\AppData\\Local\\Programs\\Python\\Python310\\lib\\site-packages\\simpletransformers\\classification\\classification_utils.py:267\u001b[0m, in \u001b[0;36mbuild_classification_dataset\u001b[1;34m(data, tokenizer, args, mode, multi_label, output_mode, no_cache)\u001b[0m\n\u001b[0;32m    262\u001b[0m     examples \u001b[38;5;241m=\u001b[39m preprocess_data(\n\u001b[0;32m    263\u001b[0m         text_a, text_b, labels, tokenizer, args\u001b[38;5;241m.\u001b[39mmax_seq_length\n\u001b[0;32m    264\u001b[0m     )\n\u001b[0;32m    266\u001b[0m \u001b[38;5;28;01mif\u001b[39;00m output_mode \u001b[38;5;241m==\u001b[39m \u001b[38;5;124m\"\u001b[39m\u001b[38;5;124mclassification\u001b[39m\u001b[38;5;124m\"\u001b[39m:\n\u001b[1;32m--> 267\u001b[0m     labels \u001b[38;5;241m=\u001b[39m \u001b[43mtorch\u001b[49m\u001b[38;5;241;43m.\u001b[39;49m\u001b[43mtensor\u001b[49m\u001b[43m(\u001b[49m\u001b[43mlabels\u001b[49m\u001b[43m,\u001b[49m\u001b[43m \u001b[49m\u001b[43mdtype\u001b[49m\u001b[38;5;241;43m=\u001b[39;49m\u001b[43mtorch\u001b[49m\u001b[38;5;241;43m.\u001b[39;49m\u001b[43mlong\u001b[49m\u001b[43m)\u001b[49m\n\u001b[0;32m    268\u001b[0m \u001b[38;5;28;01melif\u001b[39;00m output_mode \u001b[38;5;241m==\u001b[39m \u001b[38;5;124m\"\u001b[39m\u001b[38;5;124mregression\u001b[39m\u001b[38;5;124m\"\u001b[39m:\n\u001b[0;32m    269\u001b[0m     labels \u001b[38;5;241m=\u001b[39m torch\u001b[38;5;241m.\u001b[39mtensor(labels, dtype\u001b[38;5;241m=\u001b[39mtorch\u001b[38;5;241m.\u001b[39mfloat)\n",
      "\u001b[1;31mValueError\u001b[0m: too many dimensions 'str'"
     ]
    }
   ],
   "source": [
    "#Train the classification model using training data\n",
    "model.train_model(df_train)"
   ]
  },
  {
   "cell_type": "markdown",
   "metadata": {},
   "source": [
    "### 4. Evaluate the Model"
   ]
  },
  {
   "cell_type": "markdown",
   "metadata": {},
   "source": [
    "- Our trained model was able to produce an accuracy of 99.3%. It accurately identified 656 spam messages, accurately identified 4311 non-spam messages, falsely identified 16 messages as spam, and 17 messages as non-spam."
   ]
  },
  {
   "cell_type": "code",
   "execution_count": null,
   "metadata": {
    "scrolled": true
   },
   "outputs": [],
   "source": [
    "#Evaluate the model\n",
    "result, model_outputs, wrong_predictions = model.eval_model(df_test, acc=sklearn.metrics.accuracy_score)"
   ]
  },
  {
   "cell_type": "markdown",
   "metadata": {},
   "source": [
    "### 5. Make Predictions on Test Data and Save to CSV"
   ]
  },
  {
   "cell_type": "code",
   "execution_count": null,
   "metadata": {},
   "outputs": [],
   "source": [
    "#Run the model on test data\n",
    "print(model.config.id2label)\n",
    "\n",
    "predictions, raw_outputs = model.predict(df_test['text'].astype(str).values.tolist())\n",
    "\n",
    "print(predictions, raw_outputs)\n",
    "\n",
    "from scipy.special import softmax\n",
    "probabilities = softmax(raw_outputs)"
   ]
  },
  {
   "cell_type": "code",
   "execution_count": null,
   "metadata": {},
   "outputs": [],
   "source": [
    "#Export Predictions\n",
    "preds = pd.DataFrame({'id': df_test.index, 'predicted': predictions})\n",
    "preds.head()\n",
    "preds.to_csv('predictions.csv', index=False)"
   ]
  },
  {
   "cell_type": "code",
   "execution_count": null,
   "metadata": {},
   "outputs": [],
   "source": []
  },
  {
   "cell_type": "code",
   "execution_count": null,
   "metadata": {},
   "outputs": [],
   "source": []
  },
  {
   "cell_type": "code",
   "execution_count": null,
   "metadata": {},
   "outputs": [],
   "source": []
  }
 ],
 "metadata": {
  "kernelspec": {
   "display_name": "Python 3 (ipykernel)",
   "language": "python",
   "name": "python3"
  },
  "language_info": {
   "codemirror_mode": {
    "name": "ipython",
    "version": 3
   },
   "file_extension": ".py",
   "mimetype": "text/x-python",
   "name": "python",
   "nbconvert_exporter": "python",
   "pygments_lexer": "ipython3",
   "version": "3.10.4"
  }
 },
 "nbformat": 4,
 "nbformat_minor": 4
}
